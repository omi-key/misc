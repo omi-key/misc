{
 "cells": [
  {
   "cell_type": "markdown",
   "metadata": {},
   "source": [
    "# レバナス vs QLD\n",
    "\n",
    "昨今のコロナ禍も目じゃなく伸びている株式インデックスにアメリカ株の NASDAQ100 がある。\n",
    "\n",
    "だいたいGAFAMとテスラとzoomとなんかそこら辺の強そうな株が突っ込まれているので、日経平均だの S&P 500 だのを尻目にぐんぐん伸びている。\n",
    "\n",
    "ところで ETF 界には、各インデックスに「日々の値動きの x 倍 (-3 <= x <= 3)を目指す」ような設計をしたやつが結構いる。先物取引を利用してなんやかんやするのだが、昨今の低金利でキャリーコストが下がっているせいもあってめちゃくちゃに流行っている。\n",
    "\n",
    "当然 NASDAQ100 に正のレバレッジを掛けた商品を買いたいのだが、如何せん日本から直接は買えない。（S&P 500 のレバレッジ ETF は買えたりする）\n",
    "\n",
    "しかしここに [iFreeレバレッジ NASDAQ100](https://www.daiwa-am.co.jp/funds/detail/3377/detail_top.html) 、通称レバナスなる投信があって、これはドルベースで NASDAQ100 指数の 2 倍を目指して運用されているような商品である。じゃあこれは日本で買えない [QLD](https://www.proshares.com/funds/qld.html) の替わりになるんじゃないか、ということで QLD 比でのパフォーマンスを調べてみた。\n",
    "\n",
    "\n",
    "## 免責事項 - Disclaimer\n",
    "\n",
    "本記事に記載されるいかなる情報も、投資への勧誘、特定の商品の勧誘や売買の推奨、特定商品、銘柄および株式指数その他投資対象の上昇または下落、あるいは将来の運用成果について示唆あるいは保証することを目的としたものではありません。\n",
    "\n",
    "本記事は「現状有姿のまま」で提供します。筆者は可能な限り正確性を保つ努力を行いましたが、本記事の記述内容が現に正確またはいかなる読者の投資目的に適合することを保証するものではなく、筆者は本記事についての一切の責任を負いません。また本記事に含まれる情報もしくは内容を利用することで直接・間接的に生じた損失・損害に対し筆者が一切責任を負わないことについて、読者は本記事の閲覧を継続することで同意したものとします。"
   ]
  },
  {
   "cell_type": "markdown",
   "metadata": {},
   "source": [
    "## データ元\n",
    "\n",
    "- Yahoo! Finance\n",
    "  - USDJPY https://finance.yahoo.com/quote/JPY%3DX/history?period1=846633600&period2=1596326400&interval=1d&filter=history&frequency=1d\n",
    "  - QLD https://finance.yahoo.com/quote/QLD/history?period1=1150848000&period2=1596326400&interval=1d&filter=history&frequency=1d\n",
    "- 大和アセットマネジメント\n",
    "  - iFreeレバレッジ NASDAQ100 https://www.daiwa-am.co.jp/funds/detail/3377/detail_top.html\n",
    "\n",
    "それぞれデータDLボタンがあるので押して適当にリネームして配置した。\n",
    "\n",
    "## 方針\n",
    "\n",
    "日本の投信のうち主に海外資産を運用する商品は、時差を考慮して\n",
    "\n",
    "- x   日 15:00 購入締め切り\n",
    "- x+1 日 未明  アメリカ市場 (現地 x 日) 終値決定 ←ここの値を\n",
    "- x+1 日 夕方  x+1 日付基準価額決定、約定        ←ここで使う\n",
    "- x+2 日       受け渡し\n",
    "\n",
    "という流れになっている。つまり、**日本時間で x 日の基準価額はアメリカ時間 x-1 日の終値に依存する。**\n",
    "\n",
    "まあ日米ともに祝日があるはずだけれど、今回のコードでは深く考えずに、日本時間の基準日の直前営業日における終値を用いて QLD の米ドル・日本円価格を算出した。"
   ]
  },
  {
   "cell_type": "code",
   "execution_count": 1,
   "metadata": {},
   "outputs": [],
   "source": [
    "import pandas as pd\n",
    "import numpy as np\n",
    "import matplotlib.pyplot as plt\n",
    "%matplotlib inline\n",
    "import seaborn as sns"
   ]
  },
  {
   "cell_type": "markdown",
   "metadata": {},
   "source": [
    "## データ読み込み\n",
    "\n",
    "### レバナス\n",
    "\n",
    "csv ははやく encoding が UTF-8 のもののみ valid として欲しい。"
   ]
  },
  {
   "cell_type": "code",
   "execution_count": 2,
   "metadata": {},
   "outputs": [],
   "source": [
    "levnas = pd.read_csv(\"rev_NASDAQ.csv\", encoding=\"SHIFT-JIS\")"
   ]
  },
  {
   "cell_type": "markdown",
   "metadata": {},
   "source": [
    "用いる終値、基準日を取り出しておく。\n",
    "\n",
    "ついでに後ほど求める QLD 価格(usd, jpy) のカラムを用意する。"
   ]
  },
  {
   "cell_type": "code",
   "execution_count": 3,
   "metadata": {},
   "outputs": [
    {
     "data": {
      "text/html": [
       "<div>\n",
       "<style scoped>\n",
       "    .dataframe tbody tr th:only-of-type {\n",
       "        vertical-align: middle;\n",
       "    }\n",
       "\n",
       "    .dataframe tbody tr th {\n",
       "        vertical-align: top;\n",
       "    }\n",
       "\n",
       "    .dataframe thead th {\n",
       "        text-align: right;\n",
       "    }\n",
       "</style>\n",
       "<table border=\"1\" class=\"dataframe\">\n",
       "  <thead>\n",
       "    <tr style=\"text-align: right;\">\n",
       "      <th></th>\n",
       "      <th>基準日</th>\n",
       "      <th>基準価額</th>\n",
       "      <th>前日比</th>\n",
       "      <th>純資産総額</th>\n",
       "      <th>直近決算日</th>\n",
       "      <th>直近分配金</th>\n",
       "      <th>分配金再投資基準価額</th>\n",
       "      <th>close</th>\n",
       "      <th>date</th>\n",
       "      <th>qldusd</th>\n",
       "      <th>qldjpy</th>\n",
       "    </tr>\n",
       "  </thead>\n",
       "  <tbody>\n",
       "    <tr>\n",
       "      <th>0</th>\n",
       "      <td>20181019</td>\n",
       "      <td>10001.0</td>\n",
       "      <td>0</td>\n",
       "      <td>300033250</td>\n",
       "      <td>0</td>\n",
       "      <td>0</td>\n",
       "      <td>10001</td>\n",
       "      <td>10001.0</td>\n",
       "      <td>2018-10-19</td>\n",
       "      <td>0</td>\n",
       "      <td>0</td>\n",
       "    </tr>\n",
       "    <tr>\n",
       "      <th>1</th>\n",
       "      <td>20181022</td>\n",
       "      <td>9998.0</td>\n",
       "      <td>-3</td>\n",
       "      <td>299937512</td>\n",
       "      <td>0</td>\n",
       "      <td>0</td>\n",
       "      <td>9998</td>\n",
       "      <td>9998.0</td>\n",
       "      <td>2018-10-22</td>\n",
       "      <td>0</td>\n",
       "      <td>0</td>\n",
       "    </tr>\n",
       "    <tr>\n",
       "      <th>2</th>\n",
       "      <td>20181023</td>\n",
       "      <td>10132.0</td>\n",
       "      <td>134</td>\n",
       "      <td>303965761</td>\n",
       "      <td>0</td>\n",
       "      <td>0</td>\n",
       "      <td>10132</td>\n",
       "      <td>10132.0</td>\n",
       "      <td>2018-10-23</td>\n",
       "      <td>0</td>\n",
       "      <td>0</td>\n",
       "    </tr>\n",
       "    <tr>\n",
       "      <th>3</th>\n",
       "      <td>20181024</td>\n",
       "      <td>10090.0</td>\n",
       "      <td>-42</td>\n",
       "      <td>302696469</td>\n",
       "      <td>0</td>\n",
       "      <td>0</td>\n",
       "      <td>10090</td>\n",
       "      <td>10090.0</td>\n",
       "      <td>2018-10-24</td>\n",
       "      <td>0</td>\n",
       "      <td>0</td>\n",
       "    </tr>\n",
       "    <tr>\n",
       "      <th>4</th>\n",
       "      <td>20181025</td>\n",
       "      <td>9250.0</td>\n",
       "      <td>-840</td>\n",
       "      <td>277496525</td>\n",
       "      <td>0</td>\n",
       "      <td>0</td>\n",
       "      <td>9250</td>\n",
       "      <td>9250.0</td>\n",
       "      <td>2018-10-25</td>\n",
       "      <td>0</td>\n",
       "      <td>0</td>\n",
       "    </tr>\n",
       "    <tr>\n",
       "      <th>...</th>\n",
       "      <td>...</td>\n",
       "      <td>...</td>\n",
       "      <td>...</td>\n",
       "      <td>...</td>\n",
       "      <td>...</td>\n",
       "      <td>...</td>\n",
       "      <td>...</td>\n",
       "      <td>...</td>\n",
       "      <td>...</td>\n",
       "      <td>...</td>\n",
       "      <td>...</td>\n",
       "    </tr>\n",
       "    <tr>\n",
       "      <th>425</th>\n",
       "      <td>20200727</td>\n",
       "      <td>18468.0</td>\n",
       "      <td>-1427</td>\n",
       "      <td>13454015575</td>\n",
       "      <td>20191018</td>\n",
       "      <td>0</td>\n",
       "      <td>18468</td>\n",
       "      <td>18468.0</td>\n",
       "      <td>2020-07-27</td>\n",
       "      <td>0</td>\n",
       "      <td>0</td>\n",
       "    </tr>\n",
       "    <tr>\n",
       "      <th>426</th>\n",
       "      <td>20200728</td>\n",
       "      <td>19227.0</td>\n",
       "      <td>759</td>\n",
       "      <td>14006937427</td>\n",
       "      <td>20191018</td>\n",
       "      <td>0</td>\n",
       "      <td>19227</td>\n",
       "      <td>19227.0</td>\n",
       "      <td>2020-07-28</td>\n",
       "      <td>0</td>\n",
       "      <td>0</td>\n",
       "    </tr>\n",
       "    <tr>\n",
       "      <th>427</th>\n",
       "      <td>20200729</td>\n",
       "      <td>18743.0</td>\n",
       "      <td>-484</td>\n",
       "      <td>13900493329</td>\n",
       "      <td>20191018</td>\n",
       "      <td>0</td>\n",
       "      <td>18743</td>\n",
       "      <td>18743.0</td>\n",
       "      <td>2020-07-29</td>\n",
       "      <td>0</td>\n",
       "      <td>0</td>\n",
       "    </tr>\n",
       "    <tr>\n",
       "      <th>428</th>\n",
       "      <td>20200730</td>\n",
       "      <td>19218.0</td>\n",
       "      <td>475</td>\n",
       "      <td>14477773611</td>\n",
       "      <td>20191018</td>\n",
       "      <td>0</td>\n",
       "      <td>19218</td>\n",
       "      <td>19218.0</td>\n",
       "      <td>2020-07-30</td>\n",
       "      <td>0</td>\n",
       "      <td>0</td>\n",
       "    </tr>\n",
       "    <tr>\n",
       "      <th>429</th>\n",
       "      <td>20200731</td>\n",
       "      <td>19649.0</td>\n",
       "      <td>431</td>\n",
       "      <td>14811577362</td>\n",
       "      <td>20191018</td>\n",
       "      <td>0</td>\n",
       "      <td>19649</td>\n",
       "      <td>19649.0</td>\n",
       "      <td>2020-07-31</td>\n",
       "      <td>0</td>\n",
       "      <td>0</td>\n",
       "    </tr>\n",
       "  </tbody>\n",
       "</table>\n",
       "<p>430 rows × 11 columns</p>\n",
       "</div>"
      ],
      "text/plain": [
       "          基準日     基準価額   前日比        純資産総額     直近決算日  直近分配金  分配金再投資基準価額  \\\n",
       "0    20181019  10001.0     0    300033250         0      0       10001   \n",
       "1    20181022   9998.0    -3    299937512         0      0        9998   \n",
       "2    20181023  10132.0   134    303965761         0      0       10132   \n",
       "3    20181024  10090.0   -42    302696469         0      0       10090   \n",
       "4    20181025   9250.0  -840    277496525         0      0        9250   \n",
       "..        ...      ...   ...          ...       ...    ...         ...   \n",
       "425  20200727  18468.0 -1427  13454015575  20191018      0       18468   \n",
       "426  20200728  19227.0   759  14006937427  20191018      0       19227   \n",
       "427  20200729  18743.0  -484  13900493329  20191018      0       18743   \n",
       "428  20200730  19218.0   475  14477773611  20191018      0       19218   \n",
       "429  20200731  19649.0   431  14811577362  20191018      0       19649   \n",
       "\n",
       "       close       date  qldusd  qldjpy  \n",
       "0    10001.0 2018-10-19       0       0  \n",
       "1     9998.0 2018-10-22       0       0  \n",
       "2    10132.0 2018-10-23       0       0  \n",
       "3    10090.0 2018-10-24       0       0  \n",
       "4     9250.0 2018-10-25       0       0  \n",
       "..       ...        ...     ...     ...  \n",
       "425  18468.0 2020-07-27       0       0  \n",
       "426  19227.0 2020-07-28       0       0  \n",
       "427  18743.0 2020-07-29       0       0  \n",
       "428  19218.0 2020-07-30       0       0  \n",
       "429  19649.0 2020-07-31       0       0  \n",
       "\n",
       "[430 rows x 11 columns]"
      ]
     },
     "execution_count": 3,
     "metadata": {},
     "output_type": "execute_result"
    }
   ],
   "source": [
    "levnas[\"close\"] = levnas[\"基準価額\"]\n",
    "levnas[\"date\"] = pd.to_datetime(levnas[\"基準日\"], format=\"%Y%m%d\")\n",
    "levnas[\"qldusd\"] = 0\n",
    "levnas[\"qldjpy\"] = 0\n",
    "\n",
    "levnas"
   ]
  },
  {
   "cell_type": "markdown",
   "metadata": {},
   "source": [
    "### QLD, USD/JPY"
   ]
  },
  {
   "cell_type": "code",
   "execution_count": 4,
   "metadata": {},
   "outputs": [
    {
     "data": {
      "text/html": [
       "<div>\n",
       "<style scoped>\n",
       "    .dataframe tbody tr th:only-of-type {\n",
       "        vertical-align: middle;\n",
       "    }\n",
       "\n",
       "    .dataframe tbody tr th {\n",
       "        vertical-align: top;\n",
       "    }\n",
       "\n",
       "    .dataframe thead th {\n",
       "        text-align: right;\n",
       "    }\n",
       "</style>\n",
       "<table border=\"1\" class=\"dataframe\">\n",
       "  <thead>\n",
       "    <tr style=\"text-align: right;\">\n",
       "      <th></th>\n",
       "      <th>Open</th>\n",
       "      <th>High</th>\n",
       "      <th>Low</th>\n",
       "      <th>Close</th>\n",
       "      <th>Adj Close</th>\n",
       "      <th>Volume</th>\n",
       "    </tr>\n",
       "    <tr>\n",
       "      <th>Date</th>\n",
       "      <th></th>\n",
       "      <th></th>\n",
       "      <th></th>\n",
       "      <th></th>\n",
       "      <th></th>\n",
       "      <th></th>\n",
       "    </tr>\n",
       "  </thead>\n",
       "  <tbody>\n",
       "    <tr>\n",
       "      <th>1996-10-30</th>\n",
       "      <td>114.370003</td>\n",
       "      <td>114.480003</td>\n",
       "      <td>113.610001</td>\n",
       "      <td>114.180000</td>\n",
       "      <td>114.180000</td>\n",
       "      <td>0.0</td>\n",
       "    </tr>\n",
       "    <tr>\n",
       "      <th>1996-10-31</th>\n",
       "      <td>NaN</td>\n",
       "      <td>NaN</td>\n",
       "      <td>NaN</td>\n",
       "      <td>NaN</td>\n",
       "      <td>NaN</td>\n",
       "      <td>NaN</td>\n",
       "    </tr>\n",
       "    <tr>\n",
       "      <th>1996-11-01</th>\n",
       "      <td>113.500000</td>\n",
       "      <td>113.500000</td>\n",
       "      <td>113.500000</td>\n",
       "      <td>113.500000</td>\n",
       "      <td>113.500000</td>\n",
       "      <td>0.0</td>\n",
       "    </tr>\n",
       "    <tr>\n",
       "      <th>1996-11-04</th>\n",
       "      <td>113.279999</td>\n",
       "      <td>113.980003</td>\n",
       "      <td>112.949997</td>\n",
       "      <td>113.879997</td>\n",
       "      <td>113.879997</td>\n",
       "      <td>0.0</td>\n",
       "    </tr>\n",
       "    <tr>\n",
       "      <th>1996-11-05</th>\n",
       "      <td>113.709999</td>\n",
       "      <td>114.330002</td>\n",
       "      <td>113.449997</td>\n",
       "      <td>114.250000</td>\n",
       "      <td>114.250000</td>\n",
       "      <td>0.0</td>\n",
       "    </tr>\n",
       "    <tr>\n",
       "      <th>...</th>\n",
       "      <td>...</td>\n",
       "      <td>...</td>\n",
       "      <td>...</td>\n",
       "      <td>...</td>\n",
       "      <td>...</td>\n",
       "      <td>...</td>\n",
       "    </tr>\n",
       "    <tr>\n",
       "      <th>2020-07-27</th>\n",
       "      <td>105.956001</td>\n",
       "      <td>106.046997</td>\n",
       "      <td>105.121002</td>\n",
       "      <td>105.992996</td>\n",
       "      <td>105.992996</td>\n",
       "      <td>0.0</td>\n",
       "    </tr>\n",
       "    <tr>\n",
       "      <th>2020-07-28</th>\n",
       "      <td>105.291000</td>\n",
       "      <td>105.679001</td>\n",
       "      <td>104.958000</td>\n",
       "      <td>105.261002</td>\n",
       "      <td>105.261002</td>\n",
       "      <td>0.0</td>\n",
       "    </tr>\n",
       "    <tr>\n",
       "      <th>2020-07-29</th>\n",
       "      <td>105.110001</td>\n",
       "      <td>105.227997</td>\n",
       "      <td>104.800003</td>\n",
       "      <td>105.107002</td>\n",
       "      <td>105.107002</td>\n",
       "      <td>0.0</td>\n",
       "    </tr>\n",
       "    <tr>\n",
       "      <th>2020-07-30</th>\n",
       "      <td>105.015999</td>\n",
       "      <td>105.288002</td>\n",
       "      <td>104.912003</td>\n",
       "      <td>105.031998</td>\n",
       "      <td>105.031998</td>\n",
       "      <td>0.0</td>\n",
       "    </tr>\n",
       "    <tr>\n",
       "      <th>2020-07-31</th>\n",
       "      <td>104.667000</td>\n",
       "      <td>105.795998</td>\n",
       "      <td>104.198997</td>\n",
       "      <td>104.682999</td>\n",
       "      <td>104.682999</td>\n",
       "      <td>0.0</td>\n",
       "    </tr>\n",
       "  </tbody>\n",
       "</table>\n",
       "<p>6198 rows × 6 columns</p>\n",
       "</div>"
      ],
      "text/plain": [
       "                  Open        High         Low       Close   Adj Close  Volume\n",
       "Date                                                                          \n",
       "1996-10-30  114.370003  114.480003  113.610001  114.180000  114.180000     0.0\n",
       "1996-10-31         NaN         NaN         NaN         NaN         NaN     NaN\n",
       "1996-11-01  113.500000  113.500000  113.500000  113.500000  113.500000     0.0\n",
       "1996-11-04  113.279999  113.980003  112.949997  113.879997  113.879997     0.0\n",
       "1996-11-05  113.709999  114.330002  113.449997  114.250000  114.250000     0.0\n",
       "...                ...         ...         ...         ...         ...     ...\n",
       "2020-07-27  105.956001  106.046997  105.121002  105.992996  105.992996     0.0\n",
       "2020-07-28  105.291000  105.679001  104.958000  105.261002  105.261002     0.0\n",
       "2020-07-29  105.110001  105.227997  104.800003  105.107002  105.107002     0.0\n",
       "2020-07-30  105.015999  105.288002  104.912003  105.031998  105.031998     0.0\n",
       "2020-07-31  104.667000  105.795998  104.198997  104.682999  104.682999     0.0\n",
       "\n",
       "[6198 rows x 6 columns]"
      ]
     },
     "execution_count": 4,
     "metadata": {},
     "output_type": "execute_result"
    }
   ],
   "source": [
    "qld = pd.read_csv(\"QLD.txt\")\n",
    "qld.set_index(\"Date\")\n",
    "usdjpy = pd.read_csv(\"USDJPY.txt\")\n",
    "usdjpy.set_index(\"Date\")"
   ]
  },
  {
   "cell_type": "markdown",
   "metadata": {},
   "source": [
    "Date を key にしてマージ。\n",
    "\n",
    "QLD の Adj. Close と USD/JPY の Close を掛け合わせることで JPY での終値を算出する。\n",
    "\n",
    "配当などを調整した後の価格が Adj. Close らしい。"
   ]
  },
  {
   "cell_type": "code",
   "execution_count": 5,
   "metadata": {},
   "outputs": [
    {
     "data": {
      "text/html": [
       "<div>\n",
       "<style scoped>\n",
       "    .dataframe tbody tr th:only-of-type {\n",
       "        vertical-align: middle;\n",
       "    }\n",
       "\n",
       "    .dataframe tbody tr th {\n",
       "        vertical-align: top;\n",
       "    }\n",
       "\n",
       "    .dataframe thead th {\n",
       "        text-align: right;\n",
       "    }\n",
       "</style>\n",
       "<table border=\"1\" class=\"dataframe\">\n",
       "  <thead>\n",
       "    <tr style=\"text-align: right;\">\n",
       "      <th></th>\n",
       "      <th>Date</th>\n",
       "      <th>Adj Close_x</th>\n",
       "      <th>close_JPY</th>\n",
       "    </tr>\n",
       "  </thead>\n",
       "  <tbody>\n",
       "    <tr>\n",
       "      <th>0</th>\n",
       "      <td>2006-06-21</td>\n",
       "      <td>7.940834</td>\n",
       "      <td>911.885664</td>\n",
       "    </tr>\n",
       "    <tr>\n",
       "      <th>1</th>\n",
       "      <td>2006-06-22</td>\n",
       "      <td>7.753991</td>\n",
       "      <td>900.083291</td>\n",
       "    </tr>\n",
       "    <tr>\n",
       "      <th>2</th>\n",
       "      <td>2006-06-23</td>\n",
       "      <td>7.730908</td>\n",
       "      <td>900.960026</td>\n",
       "    </tr>\n",
       "    <tr>\n",
       "      <th>3</th>\n",
       "      <td>2006-06-26</td>\n",
       "      <td>7.759483</td>\n",
       "      <td>901.807122</td>\n",
       "    </tr>\n",
       "    <tr>\n",
       "      <th>4</th>\n",
       "      <td>2006-06-27</td>\n",
       "      <td>7.469331</td>\n",
       "      <td>868.832582</td>\n",
       "    </tr>\n",
       "    <tr>\n",
       "      <th>...</th>\n",
       "      <td>...</td>\n",
       "      <td>...</td>\n",
       "      <td>...</td>\n",
       "    </tr>\n",
       "    <tr>\n",
       "      <th>3548</th>\n",
       "      <td>2020-07-27</td>\n",
       "      <td>162.600006</td>\n",
       "      <td>17234.461786</td>\n",
       "    </tr>\n",
       "    <tr>\n",
       "      <th>3549</th>\n",
       "      <td>2020-07-28</td>\n",
       "      <td>158.559998</td>\n",
       "      <td>16690.184267</td>\n",
       "    </tr>\n",
       "    <tr>\n",
       "      <th>3550</th>\n",
       "      <td>2020-07-29</td>\n",
       "      <td>162.229996</td>\n",
       "      <td>17051.508514</td>\n",
       "    </tr>\n",
       "    <tr>\n",
       "      <th>3551</th>\n",
       "      <td>2020-07-30</td>\n",
       "      <td>163.860001</td>\n",
       "      <td>17210.543297</td>\n",
       "    </tr>\n",
       "    <tr>\n",
       "      <th>3552</th>\n",
       "      <td>2020-07-31</td>\n",
       "      <td>169.679993</td>\n",
       "      <td>17762.610538</td>\n",
       "    </tr>\n",
       "  </tbody>\n",
       "</table>\n",
       "<p>3553 rows × 3 columns</p>\n",
       "</div>"
      ],
      "text/plain": [
       "            Date  Adj Close_x     close_JPY\n",
       "0     2006-06-21     7.940834    911.885664\n",
       "1     2006-06-22     7.753991    900.083291\n",
       "2     2006-06-23     7.730908    900.960026\n",
       "3     2006-06-26     7.759483    901.807122\n",
       "4     2006-06-27     7.469331    868.832582\n",
       "...          ...          ...           ...\n",
       "3548  2020-07-27   162.600006  17234.461786\n",
       "3549  2020-07-28   158.559998  16690.184267\n",
       "3550  2020-07-29   162.229996  17051.508514\n",
       "3551  2020-07-30   163.860001  17210.543297\n",
       "3552  2020-07-31   169.679993  17762.610538\n",
       "\n",
       "[3553 rows x 3 columns]"
      ]
     },
     "execution_count": 5,
     "metadata": {},
     "output_type": "execute_result"
    }
   ],
   "source": [
    "qldusd = pd.merge(qld, usdjpy, on=\"Date\")\n",
    "qldusd[\"close_JPY\"] = qldusd[\"Adj Close_x\"] * qldusd[\"Close_y\"]\n",
    "qldusd[[\"Date\", \"Adj Close_x\", \"close_JPY\"]]"
   ]
  },
  {
   "cell_type": "markdown",
   "metadata": {},
   "source": [
    "あきらかにこんなにいらないのと、現状 Date カラムが **str** なので datetime へ変換しておく。"
   ]
  },
  {
   "cell_type": "code",
   "execution_count": 6,
   "metadata": {},
   "outputs": [
    {
     "data": {
      "text/html": [
       "<div>\n",
       "<style scoped>\n",
       "    .dataframe tbody tr th:only-of-type {\n",
       "        vertical-align: middle;\n",
       "    }\n",
       "\n",
       "    .dataframe tbody tr th {\n",
       "        vertical-align: top;\n",
       "    }\n",
       "\n",
       "    .dataframe thead th {\n",
       "        text-align: right;\n",
       "    }\n",
       "</style>\n",
       "<table border=\"1\" class=\"dataframe\">\n",
       "  <thead>\n",
       "    <tr style=\"text-align: right;\">\n",
       "      <th></th>\n",
       "      <th>Date</th>\n",
       "      <th>Adj Close_x</th>\n",
       "      <th>close_JPY</th>\n",
       "    </tr>\n",
       "  </thead>\n",
       "  <tbody>\n",
       "    <tr>\n",
       "      <th>3000</th>\n",
       "      <td>2018-05-22</td>\n",
       "      <td>83.026443</td>\n",
       "      <td>9214.108342</td>\n",
       "    </tr>\n",
       "    <tr>\n",
       "      <th>3001</th>\n",
       "      <td>2018-05-23</td>\n",
       "      <td>84.413208</td>\n",
       "      <td>9346.736700</td>\n",
       "    </tr>\n",
       "    <tr>\n",
       "      <th>3002</th>\n",
       "      <td>2018-05-24</td>\n",
       "      <td>84.333389</td>\n",
       "      <td>9265.625369</td>\n",
       "    </tr>\n",
       "    <tr>\n",
       "      <th>3003</th>\n",
       "      <td>2018-05-25</td>\n",
       "      <td>84.512985</td>\n",
       "      <td>9238.283078</td>\n",
       "    </tr>\n",
       "    <tr>\n",
       "      <th>3004</th>\n",
       "      <td>2018-05-29</td>\n",
       "      <td>83.754745</td>\n",
       "      <td>9161.847801</td>\n",
       "    </tr>\n",
       "    <tr>\n",
       "      <th>...</th>\n",
       "      <td>...</td>\n",
       "      <td>...</td>\n",
       "      <td>...</td>\n",
       "    </tr>\n",
       "    <tr>\n",
       "      <th>3548</th>\n",
       "      <td>2020-07-27</td>\n",
       "      <td>162.600006</td>\n",
       "      <td>17234.461786</td>\n",
       "    </tr>\n",
       "    <tr>\n",
       "      <th>3549</th>\n",
       "      <td>2020-07-28</td>\n",
       "      <td>158.559998</td>\n",
       "      <td>16690.184267</td>\n",
       "    </tr>\n",
       "    <tr>\n",
       "      <th>3550</th>\n",
       "      <td>2020-07-29</td>\n",
       "      <td>162.229996</td>\n",
       "      <td>17051.508514</td>\n",
       "    </tr>\n",
       "    <tr>\n",
       "      <th>3551</th>\n",
       "      <td>2020-07-30</td>\n",
       "      <td>163.860001</td>\n",
       "      <td>17210.543297</td>\n",
       "    </tr>\n",
       "    <tr>\n",
       "      <th>3552</th>\n",
       "      <td>2020-07-31</td>\n",
       "      <td>169.679993</td>\n",
       "      <td>17762.610538</td>\n",
       "    </tr>\n",
       "  </tbody>\n",
       "</table>\n",
       "<p>553 rows × 3 columns</p>\n",
       "</div>"
      ],
      "text/plain": [
       "           Date  Adj Close_x     close_JPY\n",
       "3000 2018-05-22    83.026443   9214.108342\n",
       "3001 2018-05-23    84.413208   9346.736700\n",
       "3002 2018-05-24    84.333389   9265.625369\n",
       "3003 2018-05-25    84.512985   9238.283078\n",
       "3004 2018-05-29    83.754745   9161.847801\n",
       "...         ...          ...           ...\n",
       "3548 2020-07-27   162.600006  17234.461786\n",
       "3549 2020-07-28   158.559998  16690.184267\n",
       "3550 2020-07-29   162.229996  17051.508514\n",
       "3551 2020-07-30   163.860001  17210.543297\n",
       "3552 2020-07-31   169.679993  17762.610538\n",
       "\n",
       "[553 rows x 3 columns]"
      ]
     },
     "execution_count": 6,
     "metadata": {},
     "output_type": "execute_result"
    }
   ],
   "source": [
    "qldjpy = qldusd.loc[3000:, [\"Date\",\"Adj Close_x\", \"close_JPY\"]]\n",
    "qldjpy[\"Date\"] = pd.to_datetime(qldjpy[\"Date\"], format=\"%Y-%m-%d\")\n",
    "qldjpy"
   ]
  },
  {
   "cell_type": "markdown",
   "metadata": {},
   "source": [
    "## マージ\n",
    "\n",
    "競プロ民とは思えぬ脳死 O(N^2)\n",
    "\n",
    "430 くらいなら実用上問題ないのでセーフ"
   ]
  },
  {
   "cell_type": "code",
   "execution_count": 7,
   "metadata": {},
   "outputs": [],
   "source": [
    "for i in range(430):\n",
    "    keydate = levnas.loc[i, \"date\"]\n",
    "    j = 3000\n",
    "    while qldjpy.loc[j, \"Date\"] < keydate:\n",
    "        j += 1\n",
    "    levnas.loc[i, \"qldusd\"] = qldjpy.loc[j-1, \"Adj Close_x\"]    \n",
    "    levnas.loc[i, \"qldjpy\"] = qldjpy.loc[j-1, \"close_JPY\"]"
   ]
  },
  {
   "cell_type": "markdown",
   "metadata": {},
   "source": [
    "## プロット\n",
    "### QLD(usd)\n",
    "\n",
    "レバナスの商品設計としてはドルベースの NASDAQ100 (の 2 倍）が基準なので、まずはそのままドルベースの QLD と比較する。\n",
    "\n",
    "だいたいここ 2 年くらいドル円が 110 円くらいだった気がするので 110 を掛けてプロットしてみる"
   ]
  },
  {
   "cell_type": "code",
   "execution_count": 8,
   "metadata": {},
   "outputs": [
    {
     "data": {
      "text/plain": [
       "<matplotlib.legend.Legend at 0x7f2ede4dd9d0>"
      ]
     },
     "execution_count": 8,
     "metadata": {},
     "output_type": "execute_result"
    },
    {
     "data": {
      "image/png": "[encoded data removed]",
      "text/plain": [
       "<Figure size 432x288 with 1 Axes>"
      ]
     },
     "metadata": {
      "needs_background": "light"
     },
     "output_type": "display_data"
    }
   ],
   "source": [
    "plt.plot(levnas[\"date\"], levnas[\"close\"], label=\"leveraged_NASDAQ\")\n",
    "plt.plot(levnas[\"date\"], levnas[\"qldusd\"] * 110, label=\"QLD(USD)\")\n",
    "plt.legend()"
   ]
  },
  {
   "cell_type": "markdown",
   "metadata": {},
   "source": [
    "よくわからないのでおとなしく比を取る。\n",
    "\n"
   ]
  },
  {
   "cell_type": "code",
   "execution_count": 9,
   "metadata": {},
   "outputs": [
    {
     "data": {
      "text/plain": [
       "[<matplotlib.lines.Line2D at 0x7f2ede3d6fa0>]"
      ]
     },
     "execution_count": 9,
     "metadata": {},
     "output_type": "execute_result"
    },
    {
     "data": {
      "image/png": "[encoded data removed]",
      "text/plain": [
       "<Figure size 432x288 with 1 Axes>"
      ]
     },
     "metadata": {
      "needs_background": "light"
     },
     "output_type": "display_data"
    }
   ],
   "source": [
    "plt.plot(levnas[\"date\"], levnas[\"close\"]/levnas[\"qldusd\"])"
   ]
  },
  {
   "cell_type": "markdown",
   "metadata": {},
   "source": [
    "設定当初は 117 くらいだった比がコロナ前 114 までじわじわと落ち込み、その直後急に 118 程度で安定するようになっている。\n",
    "\n",
    "これはレバナスが為替ヘッジをしているためであると考えられる。コロナ前は日米金利差がそこそこあったのでヘッジコストが発生していたが、アメリカの金利もゼロになったのでヘッジコストがほぼ無になり、この比が安定したようだ。**たぶん。**\n",
    "\n",
    "じゃあなんで為替ヘッジなんてするんですかというと、先物取引の都合上ファンド資金はそのまま証拠金になり、ドルベースの差金決済取引になるので本来差金分しか為替影響を受けない中途半端な状態になってしまう。であれば、ということでいっそまるごと為替ヘッジをしているのだと思う。\n",
    "\n",
    "**たぶん。**"
   ]
  },
  {
   "cell_type": "markdown",
   "metadata": {},
   "source": [
    "## QLD(jpy)\n",
    "\n",
    "ところで普通にアメリカ ETF 買った時に為替ヘッジなんてしませんよね？　ということで日本円ベースで比較"
   ]
  },
  {
   "cell_type": "code",
   "execution_count": 10,
   "metadata": {},
   "outputs": [
    {
     "data": {
      "text/plain": [
       "<matplotlib.legend.Legend at 0x7f2ede3b62b0>"
      ]
     },
     "execution_count": 10,
     "metadata": {},
     "output_type": "execute_result"
    },
    {
     "data": {
      "image/png": "[encoded data removed]",
      "text/plain": [
       "<Figure size 432x288 with 1 Axes>"
      ]
     },
     "metadata": {
      "needs_background": "light"
     },
     "output_type": "display_data"
    }
   ],
   "source": [
    "plt.plot(levnas[\"date\"], levnas[\"close\"], label=\"leveraged_NASDAQ\")\n",
    "plt.plot(levnas[\"date\"], levnas[\"qldjpy\"], label=\"QLD\")\n",
    "plt.legend()"
   ]
  },
  {
   "cell_type": "code",
   "execution_count": 11,
   "metadata": {},
   "outputs": [
    {
     "data": {
      "text/plain": [
       "[<matplotlib.lines.Line2D at 0x7f2ede3833a0>]"
      ]
     },
     "execution_count": 11,
     "metadata": {},
     "output_type": "execute_result"
    },
    {
     "data": {
      "image/png": "[encoded data removed]",
      "text/plain": [
       "<Figure size 432x288 with 1 Axes>"
      ]
     },
     "metadata": {
      "needs_background": "light"
     },
     "output_type": "display_data"
    }
   ],
   "source": [
    "plt.plot(levnas[\"date\"], levnas[\"close\"]/levnas[\"qldjpy\"])"
   ]
  },
  {
   "cell_type": "markdown",
   "metadata": {},
   "source": [
    "ドル円の動きに従って結構跳ねているが、コロナ以降はQLD比 1.1 と今までよりも高値圏で安定しているように見られる。\n",
    "\n",
    "当然円高が進めばその分為替ヘッジを行うレバナス有利な戦いになる。"
   ]
  },
  {
   "cell_type": "markdown",
   "metadata": {},
   "source": [
    "### ここまでのまとめ\n",
    "\n",
    "ヘッジコスト (≒金利差) が発生しない間においては、レバナスは完全に QLD 互換と言ってよさそう。\n",
    "\n",
    "\n",
    "# 結論\n",
    "\n",
    "大和アセットマネジメントははやく [TQQQ](https://www.proshares.com/funds/tqqq.html) 互換を出して　やくめでしょ"
   ]
  }
 ],
 "metadata": {
  "kernelspec": {
   "display_name": "Python 3.8.0 64-bit",
   "language": "python",
   "name": "python38064bit68db8a4d1aaf46b3b36dee76f0c0c4bb"
  },
  "language_info": {
   "codemirror_mode": {
    "name": "ipython",
    "version": 3
   },
   "file_extension": ".py",
   "mimetype": "text/x-python",
   "name": "python",
   "nbconvert_exporter": "python",
   "pygments_lexer": "ipython3",
   "version": "3.8.0"
  }
 },
 "nbformat": 4,
 "nbformat_minor": 4
}
